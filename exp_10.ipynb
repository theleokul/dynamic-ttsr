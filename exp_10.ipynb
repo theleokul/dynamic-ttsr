{
  "nbformat": 4,
  "nbformat_minor": 0,
  "metadata": {
    "colab": {
      "name": "Welcome To Colaboratory",
      "provenance": [],
      "collapsed_sections": []
    },
    "kernelspec": {
      "display_name": "Python 3",
      "name": "python3"
    },
    "accelerator": "GPU"
  },
  "cells": [
    {
      "cell_type": "code",
      "metadata": {
        "colab": {
          "base_uri": "https://localhost:8080/"
        },
        "id": "w-hvq57Niwn3",
        "outputId": "f5c66ff7-1d2a-4ff7-8601-69c337896183"
      },
      "source": [
        "from google.colab import drive\n",
        "drive.mount('/content/gdrive') "
      ],
      "execution_count": 8,
      "outputs": [
        {
          "output_type": "stream",
          "text": [
            "Mounted at /content/gdrive\n"
          ],
          "name": "stdout"
        }
      ]
    },
    {
      "cell_type": "markdown",
      "metadata": {
        "id": "GJBs_flRovLc"
      },
      "source": [
        "## **Experiment 10**\n"
      ]
    },
    {
      "cell_type": "markdown",
      "metadata": {
        "id": "pqobOixZpF4b"
      },
      "source": [
        "We clone the repository of original work. Then Downloading pre-trained model. After uploading the reference black image to /content/TTSR/test/demo/ref/ we launch the test.sh file. Then the output image is saved to specified path"
      ]
    },
    {
      "cell_type": "code",
      "metadata": {
        "colab": {
          "base_uri": "https://localhost:8080/"
        },
        "id": "tsJKU6tJcmXu",
        "outputId": "df653d1a-2501-460e-ec5c-bb3dea84cb2a"
      },
      "source": [
        "!git clone https://github.com/FuzhiYang/TTSR.git"
      ],
      "execution_count": 6,
      "outputs": [
        {
          "output_type": "stream",
          "text": [
            "Cloning into 'TTSR'...\n",
            "remote: Enumerating objects: 5, done.\u001b[K\n",
            "remote: Counting objects:  20% (1/5)\u001b[K\rremote: Counting objects:  40% (2/5)\u001b[K\rremote: Counting objects:  60% (3/5)\u001b[K\rremote: Counting objects:  80% (4/5)\u001b[K\rremote: Counting objects: 100% (5/5)\u001b[K\rremote: Counting objects: 100% (5/5), done.\u001b[K\n",
            "remote: Compressing objects: 100% (5/5), done.\u001b[K\n",
            "remote: Total 66 (delta 0), reused 1 (delta 0), pack-reused 61\u001b[K\n",
            "Unpacking objects: 100% (66/66), done.\n"
          ],
          "name": "stdout"
        }
      ]
    },
    {
      "cell_type": "code",
      "metadata": {
        "id": "KJkIDu0vcnYq"
      },
      "source": [
        "cd TTSR"
      ],
      "execution_count": 12,
      "outputs": []
    },
    {
      "cell_type": "code",
      "metadata": {
        "colab": {
          "base_uri": "https://localhost:8080/"
        },
        "id": "U2EHkUpeevxg",
        "outputId": "0892e7a3-c363-4dc7-ad0d-acec3f2168b6"
      },
      "source": [
        "!sh /content/TTSR/test.sh"
      ],
      "execution_count": 30,
      "outputs": [
        {
          "output_type": "stream",
          "text": [
            "[2021-03-24 00:40:48,979] - [trainer.py file line:48] - INFO: load_model_path: /content/TTSR/test/TTSR.pt\n",
            "[2021-03-24 00:40:49,034] - [trainer.py file line:163] - INFO: Test process...\n",
            "[2021-03-24 00:40:49,034] - [trainer.py file line:164] - INFO: lr path:     ./test/demo/lr/0.png\n",
            "[2021-03-24 00:40:49,034] - [trainer.py file line:165] - INFO: ref path:    ./test/demo/ref/0.png\n",
            "[2021-03-24 00:40:49,520] - [trainer.py file line:205] - INFO: output path: ./test/demo/output/save_results/0.png\n",
            "[2021-03-24 00:40:49,520] - [trainer.py file line:207] - INFO: Test over.\n"
          ],
          "name": "stdout"
        }
      ]
    },
    {
      "cell_type": "code",
      "metadata": {
        "colab": {
          "base_uri": "https://localhost:8080/"
        },
        "id": "kdiJe1mRgBMv",
        "outputId": "5b40e9f8-f2e3-4602-b70c-4e76b45b6e65"
      },
      "source": [
        "!ls"
      ],
      "execution_count": 21,
      "outputs": [
        {
          "output_type": "stream",
          "text": [
            "dataset  IMG   main.py\toption.py    README.md\ttest.sh     train.sh\n",
            "eval.sh  loss  model\t__pycache__  test\ttrainer.py  utils.py\n"
          ],
          "name": "stdout"
        }
      ]
    },
    {
      "cell_type": "code",
      "metadata": {
        "colab": {
          "base_uri": "https://localhost:8080/"
        },
        "id": "M4il7v2ugCEO",
        "outputId": "5a9b8b91-ea4b-4a80-bde7-480a076fc606"
      },
      "source": [
        ""
      ],
      "execution_count": 25,
      "outputs": [
        {
          "output_type": "stream",
          "text": [
            "/bin/bash: gdrive: command not found\n"
          ],
          "name": "stdout"
        }
      ]
    },
    {
      "cell_type": "code",
      "metadata": {
        "colab": {
          "base_uri": "https://localhost:8080/"
        },
        "id": "DGxzr0NugHDk",
        "outputId": "b19e4c54-bc78-4070-efc9-74ff4517ff12"
      },
      "source": [
        "cd TTSR"
      ],
      "execution_count": 14,
      "outputs": [
        {
          "output_type": "stream",
          "text": [
            "/content/TTSR\n"
          ],
          "name": "stdout"
        }
      ]
    },
    {
      "cell_type": "code",
      "metadata": {
        "id": "0EMemSJXgI2c"
      },
      "source": [
        ""
      ],
      "execution_count": null,
      "outputs": []
    },
    {
      "cell_type": "code",
      "metadata": {
        "id": "O6R0VfxMg7us"
      },
      "source": [
        ""
      ],
      "execution_count": null,
      "outputs": []
    }
  ]
}